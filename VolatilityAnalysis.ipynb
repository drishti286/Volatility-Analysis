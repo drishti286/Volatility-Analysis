{
  "nbformat": 4,
  "nbformat_minor": 0,
  "metadata": {
    "colab": {
      "provenance": []
    },
    "kernelspec": {
      "name": "python3",
      "display_name": "Python 3"
    },
    "language_info": {
      "name": "python"
    }
  },
  "cells": [
    {
      "cell_type": "markdown",
      "source": [
        "## **Drift‐Independent Volatility Estimation Based on High, Low, Open, and Close Prices**\n",
        "\n",
        "Link to the paper: https://www.jstor.org/stable/10.1086/209650\n",
        "\n",
        "**Abstract**: The paper presents a novel volatility estimator derived from multiple periods of high, low, open, and close prices within a historical time series. This new estimator boasts several advantageous properties: it is (a) unbiased in the continuous limit, (b) unaffected by drift, (c) consistent in managing opening price jumps. Moreover, it exhibits the lowest variance among all estimators possessing similar characteristics. The enhancement in accuracy compared to the conventional close-to-close estimator is notably significant when applied to real-life time series data."
      ],
      "metadata": {
        "id": "1iv_b2odPjDQ"
      }
    },
    {
      "cell_type": "code",
      "source": [
        "import numpy as np\n",
        "import pandas as pd\n",
        "import matplotlib.pyplot as plt\n",
        "from scipy.stats import norm\n",
        "from google.colab import drive\n",
        "df = pd.read_csv('/content/NIFTY 50_Historical_PR_01011994to31122023.csv')"
      ],
      "metadata": {
        "id": "q5RLiW0_bQQ6"
      },
      "execution_count": null,
      "outputs": []
    },
    {
      "cell_type": "code",
      "source": [
        "df"
      ],
      "metadata": {
        "colab": {
          "base_uri": "https://localhost:8080/",
          "height": 423
        },
        "id": "bcN0WF8kvfgh",
        "outputId": "7ae6688e-b063-46be-a271-e6041eddfc66"
      },
      "execution_count": null,
      "outputs": [
        {
          "output_type": "execute_result",
          "data": {
            "text/plain": [
              "     Index Name       Date      Open      High       Low     Close\n",
              "0      NIFTY 50  29-Dec-23  21737.65   21770.3   21676.9  21731.40\n",
              "1      NIFTY 50  28-Dec-23     21715  21801.45     21678  21778.70\n",
              "2      NIFTY 50  27-Dec-23  21497.65  21675.75   21495.8  21654.75\n",
              "3      NIFTY 50  26-Dec-23   21365.2  21477.15  21329.45  21441.35\n",
              "4      NIFTY 50  22-Dec-23  21295.85   21390.5  21232.45  21349.40\n",
              "...         ...        ...       ...       ...       ...       ...\n",
              "7428        NaN        NaN       NaN       NaN       NaN       NaN\n",
              "7429        NaN        NaN       NaN       NaN       NaN       NaN\n",
              "7430        NaN        NaN       NaN       NaN       NaN       NaN\n",
              "7431        NaN        NaN       NaN       NaN       NaN       NaN\n",
              "7432        NaN        NaN       NaN       NaN       NaN       NaN\n",
              "\n",
              "[7433 rows x 6 columns]"
            ],
            "text/html": [
              "\n",
              "  <div id=\"df-befb9ecd-4fc7-419f-9fdf-2c6f89465057\" class=\"colab-df-container\">\n",
              "    <div>\n",
              "<style scoped>\n",
              "    .dataframe tbody tr th:only-of-type {\n",
              "        vertical-align: middle;\n",
              "    }\n",
              "\n",
              "    .dataframe tbody tr th {\n",
              "        vertical-align: top;\n",
              "    }\n",
              "\n",
              "    .dataframe thead th {\n",
              "        text-align: right;\n",
              "    }\n",
              "</style>\n",
              "<table border=\"1\" class=\"dataframe\">\n",
              "  <thead>\n",
              "    <tr style=\"text-align: right;\">\n",
              "      <th></th>\n",
              "      <th>Index Name</th>\n",
              "      <th>Date</th>\n",
              "      <th>Open</th>\n",
              "      <th>High</th>\n",
              "      <th>Low</th>\n",
              "      <th>Close</th>\n",
              "    </tr>\n",
              "  </thead>\n",
              "  <tbody>\n",
              "    <tr>\n",
              "      <th>0</th>\n",
              "      <td>NIFTY 50</td>\n",
              "      <td>29-Dec-23</td>\n",
              "      <td>21737.65</td>\n",
              "      <td>21770.3</td>\n",
              "      <td>21676.9</td>\n",
              "      <td>21731.40</td>\n",
              "    </tr>\n",
              "    <tr>\n",
              "      <th>1</th>\n",
              "      <td>NIFTY 50</td>\n",
              "      <td>28-Dec-23</td>\n",
              "      <td>21715</td>\n",
              "      <td>21801.45</td>\n",
              "      <td>21678</td>\n",
              "      <td>21778.70</td>\n",
              "    </tr>\n",
              "    <tr>\n",
              "      <th>2</th>\n",
              "      <td>NIFTY 50</td>\n",
              "      <td>27-Dec-23</td>\n",
              "      <td>21497.65</td>\n",
              "      <td>21675.75</td>\n",
              "      <td>21495.8</td>\n",
              "      <td>21654.75</td>\n",
              "    </tr>\n",
              "    <tr>\n",
              "      <th>3</th>\n",
              "      <td>NIFTY 50</td>\n",
              "      <td>26-Dec-23</td>\n",
              "      <td>21365.2</td>\n",
              "      <td>21477.15</td>\n",
              "      <td>21329.45</td>\n",
              "      <td>21441.35</td>\n",
              "    </tr>\n",
              "    <tr>\n",
              "      <th>4</th>\n",
              "      <td>NIFTY 50</td>\n",
              "      <td>22-Dec-23</td>\n",
              "      <td>21295.85</td>\n",
              "      <td>21390.5</td>\n",
              "      <td>21232.45</td>\n",
              "      <td>21349.40</td>\n",
              "    </tr>\n",
              "    <tr>\n",
              "      <th>...</th>\n",
              "      <td>...</td>\n",
              "      <td>...</td>\n",
              "      <td>...</td>\n",
              "      <td>...</td>\n",
              "      <td>...</td>\n",
              "      <td>...</td>\n",
              "    </tr>\n",
              "    <tr>\n",
              "      <th>7428</th>\n",
              "      <td>NaN</td>\n",
              "      <td>NaN</td>\n",
              "      <td>NaN</td>\n",
              "      <td>NaN</td>\n",
              "      <td>NaN</td>\n",
              "      <td>NaN</td>\n",
              "    </tr>\n",
              "    <tr>\n",
              "      <th>7429</th>\n",
              "      <td>NaN</td>\n",
              "      <td>NaN</td>\n",
              "      <td>NaN</td>\n",
              "      <td>NaN</td>\n",
              "      <td>NaN</td>\n",
              "      <td>NaN</td>\n",
              "    </tr>\n",
              "    <tr>\n",
              "      <th>7430</th>\n",
              "      <td>NaN</td>\n",
              "      <td>NaN</td>\n",
              "      <td>NaN</td>\n",
              "      <td>NaN</td>\n",
              "      <td>NaN</td>\n",
              "      <td>NaN</td>\n",
              "    </tr>\n",
              "    <tr>\n",
              "      <th>7431</th>\n",
              "      <td>NaN</td>\n",
              "      <td>NaN</td>\n",
              "      <td>NaN</td>\n",
              "      <td>NaN</td>\n",
              "      <td>NaN</td>\n",
              "      <td>NaN</td>\n",
              "    </tr>\n",
              "    <tr>\n",
              "      <th>7432</th>\n",
              "      <td>NaN</td>\n",
              "      <td>NaN</td>\n",
              "      <td>NaN</td>\n",
              "      <td>NaN</td>\n",
              "      <td>NaN</td>\n",
              "      <td>NaN</td>\n",
              "    </tr>\n",
              "  </tbody>\n",
              "</table>\n",
              "<p>7433 rows × 6 columns</p>\n",
              "</div>\n",
              "    <div class=\"colab-df-buttons\">\n",
              "\n",
              "  <div class=\"colab-df-container\">\n",
              "    <button class=\"colab-df-convert\" onclick=\"convertToInteractive('df-befb9ecd-4fc7-419f-9fdf-2c6f89465057')\"\n",
              "            title=\"Convert this dataframe to an interactive table.\"\n",
              "            style=\"display:none;\">\n",
              "\n",
              "  <svg xmlns=\"http://www.w3.org/2000/svg\" height=\"24px\" viewBox=\"0 -960 960 960\">\n",
              "    <path d=\"M120-120v-720h720v720H120Zm60-500h600v-160H180v160Zm220 220h160v-160H400v160Zm0 220h160v-160H400v160ZM180-400h160v-160H180v160Zm440 0h160v-160H620v160ZM180-180h160v-160H180v160Zm440 0h160v-160H620v160Z\"/>\n",
              "  </svg>\n",
              "    </button>\n",
              "\n",
              "  <style>\n",
              "    .colab-df-container {\n",
              "      display:flex;\n",
              "      gap: 12px;\n",
              "    }\n",
              "\n",
              "    .colab-df-convert {\n",
              "      background-color: #E8F0FE;\n",
              "      border: none;\n",
              "      border-radius: 50%;\n",
              "      cursor: pointer;\n",
              "      display: none;\n",
              "      fill: #1967D2;\n",
              "      height: 32px;\n",
              "      padding: 0 0 0 0;\n",
              "      width: 32px;\n",
              "    }\n",
              "\n",
              "    .colab-df-convert:hover {\n",
              "      background-color: #E2EBFA;\n",
              "      box-shadow: 0px 1px 2px rgba(60, 64, 67, 0.3), 0px 1px 3px 1px rgba(60, 64, 67, 0.15);\n",
              "      fill: #174EA6;\n",
              "    }\n",
              "\n",
              "    .colab-df-buttons div {\n",
              "      margin-bottom: 4px;\n",
              "    }\n",
              "\n",
              "    [theme=dark] .colab-df-convert {\n",
              "      background-color: #3B4455;\n",
              "      fill: #D2E3FC;\n",
              "    }\n",
              "\n",
              "    [theme=dark] .colab-df-convert:hover {\n",
              "      background-color: #434B5C;\n",
              "      box-shadow: 0px 1px 3px 1px rgba(0, 0, 0, 0.15);\n",
              "      filter: drop-shadow(0px 1px 2px rgba(0, 0, 0, 0.3));\n",
              "      fill: #FFFFFF;\n",
              "    }\n",
              "  </style>\n",
              "\n",
              "    <script>\n",
              "      const buttonEl =\n",
              "        document.querySelector('#df-befb9ecd-4fc7-419f-9fdf-2c6f89465057 button.colab-df-convert');\n",
              "      buttonEl.style.display =\n",
              "        google.colab.kernel.accessAllowed ? 'block' : 'none';\n",
              "\n",
              "      async function convertToInteractive(key) {\n",
              "        const element = document.querySelector('#df-befb9ecd-4fc7-419f-9fdf-2c6f89465057');\n",
              "        const dataTable =\n",
              "          await google.colab.kernel.invokeFunction('convertToInteractive',\n",
              "                                                    [key], {});\n",
              "        if (!dataTable) return;\n",
              "\n",
              "        const docLinkHtml = 'Like what you see? Visit the ' +\n",
              "          '<a target=\"_blank\" href=https://colab.research.google.com/notebooks/data_table.ipynb>data table notebook</a>'\n",
              "          + ' to learn more about interactive tables.';\n",
              "        element.innerHTML = '';\n",
              "        dataTable['output_type'] = 'display_data';\n",
              "        await google.colab.output.renderOutput(dataTable, element);\n",
              "        const docLink = document.createElement('div');\n",
              "        docLink.innerHTML = docLinkHtml;\n",
              "        element.appendChild(docLink);\n",
              "      }\n",
              "    </script>\n",
              "  </div>\n",
              "\n",
              "\n",
              "<div id=\"df-cb90bc9e-78c8-46f8-bccc-bd0f5cd4679d\">\n",
              "  <button class=\"colab-df-quickchart\" onclick=\"quickchart('df-cb90bc9e-78c8-46f8-bccc-bd0f5cd4679d')\"\n",
              "            title=\"Suggest charts\"\n",
              "            style=\"display:none;\">\n",
              "\n",
              "<svg xmlns=\"http://www.w3.org/2000/svg\" height=\"24px\"viewBox=\"0 0 24 24\"\n",
              "     width=\"24px\">\n",
              "    <g>\n",
              "        <path d=\"M19 3H5c-1.1 0-2 .9-2 2v14c0 1.1.9 2 2 2h14c1.1 0 2-.9 2-2V5c0-1.1-.9-2-2-2zM9 17H7v-7h2v7zm4 0h-2V7h2v10zm4 0h-2v-4h2v4z\"/>\n",
              "    </g>\n",
              "</svg>\n",
              "  </button>\n",
              "\n",
              "<style>\n",
              "  .colab-df-quickchart {\n",
              "      --bg-color: #E8F0FE;\n",
              "      --fill-color: #1967D2;\n",
              "      --hover-bg-color: #E2EBFA;\n",
              "      --hover-fill-color: #174EA6;\n",
              "      --disabled-fill-color: #AAA;\n",
              "      --disabled-bg-color: #DDD;\n",
              "  }\n",
              "\n",
              "  [theme=dark] .colab-df-quickchart {\n",
              "      --bg-color: #3B4455;\n",
              "      --fill-color: #D2E3FC;\n",
              "      --hover-bg-color: #434B5C;\n",
              "      --hover-fill-color: #FFFFFF;\n",
              "      --disabled-bg-color: #3B4455;\n",
              "      --disabled-fill-color: #666;\n",
              "  }\n",
              "\n",
              "  .colab-df-quickchart {\n",
              "    background-color: var(--bg-color);\n",
              "    border: none;\n",
              "    border-radius: 50%;\n",
              "    cursor: pointer;\n",
              "    display: none;\n",
              "    fill: var(--fill-color);\n",
              "    height: 32px;\n",
              "    padding: 0;\n",
              "    width: 32px;\n",
              "  }\n",
              "\n",
              "  .colab-df-quickchart:hover {\n",
              "    background-color: var(--hover-bg-color);\n",
              "    box-shadow: 0 1px 2px rgba(60, 64, 67, 0.3), 0 1px 3px 1px rgba(60, 64, 67, 0.15);\n",
              "    fill: var(--button-hover-fill-color);\n",
              "  }\n",
              "\n",
              "  .colab-df-quickchart-complete:disabled,\n",
              "  .colab-df-quickchart-complete:disabled:hover {\n",
              "    background-color: var(--disabled-bg-color);\n",
              "    fill: var(--disabled-fill-color);\n",
              "    box-shadow: none;\n",
              "  }\n",
              "\n",
              "  .colab-df-spinner {\n",
              "    border: 2px solid var(--fill-color);\n",
              "    border-color: transparent;\n",
              "    border-bottom-color: var(--fill-color);\n",
              "    animation:\n",
              "      spin 1s steps(1) infinite;\n",
              "  }\n",
              "\n",
              "  @keyframes spin {\n",
              "    0% {\n",
              "      border-color: transparent;\n",
              "      border-bottom-color: var(--fill-color);\n",
              "      border-left-color: var(--fill-color);\n",
              "    }\n",
              "    20% {\n",
              "      border-color: transparent;\n",
              "      border-left-color: var(--fill-color);\n",
              "      border-top-color: var(--fill-color);\n",
              "    }\n",
              "    30% {\n",
              "      border-color: transparent;\n",
              "      border-left-color: var(--fill-color);\n",
              "      border-top-color: var(--fill-color);\n",
              "      border-right-color: var(--fill-color);\n",
              "    }\n",
              "    40% {\n",
              "      border-color: transparent;\n",
              "      border-right-color: var(--fill-color);\n",
              "      border-top-color: var(--fill-color);\n",
              "    }\n",
              "    60% {\n",
              "      border-color: transparent;\n",
              "      border-right-color: var(--fill-color);\n",
              "    }\n",
              "    80% {\n",
              "      border-color: transparent;\n",
              "      border-right-color: var(--fill-color);\n",
              "      border-bottom-color: var(--fill-color);\n",
              "    }\n",
              "    90% {\n",
              "      border-color: transparent;\n",
              "      border-bottom-color: var(--fill-color);\n",
              "    }\n",
              "  }\n",
              "</style>\n",
              "\n",
              "  <script>\n",
              "    async function quickchart(key) {\n",
              "      const quickchartButtonEl =\n",
              "        document.querySelector('#' + key + ' button');\n",
              "      quickchartButtonEl.disabled = true;  // To prevent multiple clicks.\n",
              "      quickchartButtonEl.classList.add('colab-df-spinner');\n",
              "      try {\n",
              "        const charts = await google.colab.kernel.invokeFunction(\n",
              "            'suggestCharts', [key], {});\n",
              "      } catch (error) {\n",
              "        console.error('Error during call to suggestCharts:', error);\n",
              "      }\n",
              "      quickchartButtonEl.classList.remove('colab-df-spinner');\n",
              "      quickchartButtonEl.classList.add('colab-df-quickchart-complete');\n",
              "    }\n",
              "    (() => {\n",
              "      let quickchartButtonEl =\n",
              "        document.querySelector('#df-cb90bc9e-78c8-46f8-bccc-bd0f5cd4679d button');\n",
              "      quickchartButtonEl.style.display =\n",
              "        google.colab.kernel.accessAllowed ? 'block' : 'none';\n",
              "    })();\n",
              "  </script>\n",
              "</div>\n",
              "\n",
              "  <div id=\"id_84b4440f-482f-401a-b042-c6953387f2fd\">\n",
              "    <style>\n",
              "      .colab-df-generate {\n",
              "        background-color: #E8F0FE;\n",
              "        border: none;\n",
              "        border-radius: 50%;\n",
              "        cursor: pointer;\n",
              "        display: none;\n",
              "        fill: #1967D2;\n",
              "        height: 32px;\n",
              "        padding: 0 0 0 0;\n",
              "        width: 32px;\n",
              "      }\n",
              "\n",
              "      .colab-df-generate:hover {\n",
              "        background-color: #E2EBFA;\n",
              "        box-shadow: 0px 1px 2px rgba(60, 64, 67, 0.3), 0px 1px 3px 1px rgba(60, 64, 67, 0.15);\n",
              "        fill: #174EA6;\n",
              "      }\n",
              "\n",
              "      [theme=dark] .colab-df-generate {\n",
              "        background-color: #3B4455;\n",
              "        fill: #D2E3FC;\n",
              "      }\n",
              "\n",
              "      [theme=dark] .colab-df-generate:hover {\n",
              "        background-color: #434B5C;\n",
              "        box-shadow: 0px 1px 3px 1px rgba(0, 0, 0, 0.15);\n",
              "        filter: drop-shadow(0px 1px 2px rgba(0, 0, 0, 0.3));\n",
              "        fill: #FFFFFF;\n",
              "      }\n",
              "    </style>\n",
              "    <button class=\"colab-df-generate\" onclick=\"generateWithVariable('df')\"\n",
              "            title=\"Generate code using this dataframe.\"\n",
              "            style=\"display:none;\">\n",
              "\n",
              "  <svg xmlns=\"http://www.w3.org/2000/svg\" height=\"24px\"viewBox=\"0 0 24 24\"\n",
              "       width=\"24px\">\n",
              "    <path d=\"M7,19H8.4L18.45,9,17,7.55,7,17.6ZM5,21V16.75L18.45,3.32a2,2,0,0,1,2.83,0l1.4,1.43a1.91,1.91,0,0,1,.58,1.4,1.91,1.91,0,0,1-.58,1.4L9.25,21ZM18.45,9,17,7.55Zm-12,3A5.31,5.31,0,0,0,4.9,8.1,5.31,5.31,0,0,0,1,6.5,5.31,5.31,0,0,0,4.9,4.9,5.31,5.31,0,0,0,6.5,1,5.31,5.31,0,0,0,8.1,4.9,5.31,5.31,0,0,0,12,6.5,5.46,5.46,0,0,0,6.5,12Z\"/>\n",
              "  </svg>\n",
              "    </button>\n",
              "    <script>\n",
              "      (() => {\n",
              "      const buttonEl =\n",
              "        document.querySelector('#id_84b4440f-482f-401a-b042-c6953387f2fd button.colab-df-generate');\n",
              "      buttonEl.style.display =\n",
              "        google.colab.kernel.accessAllowed ? 'block' : 'none';\n",
              "\n",
              "      buttonEl.onclick = () => {\n",
              "        google.colab.notebook.generateWithVariable('df');\n",
              "      }\n",
              "      })();\n",
              "    </script>\n",
              "  </div>\n",
              "\n",
              "    </div>\n",
              "  </div>\n"
            ],
            "application/vnd.google.colaboratory.intrinsic+json": {
              "type": "dataframe",
              "variable_name": "df",
              "summary": "{\n  \"name\": \"df\",\n  \"rows\": 7433,\n  \"fields\": [\n    {\n      \"column\": \"Index Name\",\n      \"properties\": {\n        \"dtype\": \"category\",\n        \"num_unique_values\": 1,\n        \"samples\": [\n          \"NIFTY 50\"\n        ],\n        \"semantic_type\": \"\",\n        \"description\": \"\"\n      }\n    },\n    {\n      \"column\": \"Date\",\n      \"properties\": {\n        \"dtype\": \"object\",\n        \"num_unique_values\": 7006,\n        \"samples\": [\n          \"24-Jul-97\"\n        ],\n        \"semantic_type\": \"\",\n        \"description\": \"\"\n      }\n    },\n    {\n      \"column\": \"Open\",\n      \"properties\": {\n        \"dtype\": \"string\",\n        \"num_unique_values\": 6810,\n        \"samples\": [\n          \"9461\"\n        ],\n        \"semantic_type\": \"\",\n        \"description\": \"\"\n      }\n    },\n    {\n      \"column\": \"High\",\n      \"properties\": {\n        \"dtype\": \"string\",\n        \"num_unique_values\": 6829,\n        \"samples\": [\n          \"1783.55\"\n        ],\n        \"semantic_type\": \"\",\n        \"description\": \"\"\n      }\n    },\n    {\n      \"column\": \"Low\",\n      \"properties\": {\n        \"dtype\": \"string\",\n        \"num_unique_values\": 6803,\n        \"samples\": [\n          \"5858.45\"\n        ],\n        \"semantic_type\": \"\",\n        \"description\": \"\"\n      }\n    },\n    {\n      \"column\": \"Close\",\n      \"properties\": {\n        \"dtype\": \"number\",\n        \"std\": 5151.301485084862,\n        \"min\": 788.15,\n        \"max\": 21778.7,\n        \"num_unique_values\": 6809,\n        \"samples\": [\n          9285.3\n        ],\n        \"semantic_type\": \"\",\n        \"description\": \"\"\n      }\n    }\n  ]\n}"
            }
          },
          "metadata": {},
          "execution_count": 8
        }
      ]
    },
    {
      "cell_type": "code",
      "source": [
        "# T = 1\n",
        "# f = 0.5\n",
        "# v = 1.1  #v = volatility\n",
        "# d = 0.9  #d = drift\n",
        "# Closed_period_length = f*T\n",
        "# Open_period_length = (1-f)*T"
      ],
      "metadata": {
        "id": "LlOnVMwlvjJV"
      },
      "execution_count": null,
      "outputs": []
    },
    {
      "cell_type": "markdown",
      "source": [
        "We will assume that price movements are modeled as a geometric Brownian motion, which means that the logarithm of the security price is a Brownian motion with two parameters, volatility s and drift m.\n",
        "\n",
        "f = 0 means that there is no opening jump, and the case f = 1 implies that price movement in the period is dominated by the opening jump.\n",
        "\n",
        "Also f depends on T, f(daily)>f(weekly)"
      ],
      "metadata": {
        "id": "ZhjcDT3zv8_F"
      }
    },
    {
      "cell_type": "code",
      "source": [
        "# drift_continuous =  d*T*(1 - f)\n",
        "# variance_continuous = v*v*T*(1 - f)\n",
        "# frequency_jumping = 1\n",
        "# #Frequency_jumping is the the frequency parameter of the Poisson-driven jumping process\n",
        "# #The jump made is assumed to be a gaussian random variable with\n",
        "# Mean = d*T*f\n",
        "# Variance = v*v*T*f"
      ],
      "metadata": {
        "id": "6rk_5cIxyq9Q"
      },
      "execution_count": null,
      "outputs": []
    },
    {
      "cell_type": "markdown",
      "source": [
        "The notation adopted in the current article is similar to that used by Garman and Klass (1980):\n",
        "\n",
        "*   T = time interval of each period, which is set to one without the\n",
        " loss of generality;\n",
        "*   f = fraction of the period (between [0, 1]) that trading is\n",
        " closed;\n",
        "*   v = unknown variance, which is the unknown volatility squared;\n",
        "*   C0 = closing price of the previous period (at time 0);\n",
        "*   O1 = opening price of the current period (at time f);\n",
        "*   H1 =the current period's high during the trading interval (between [ f, 1]);\n",
        "*   L1 = the current period's low during the trading interval(between [ f, 1]);\n",
        "*   C1 = closing price of the current period (at time 1);\n",
        "*   o = lnO1 - lnC0, the normalized open;\n",
        "*    u = lnH1 - lnO1, the normalized high;\n",
        "*   d = lnL1 - lnO1, the normalized low;\n",
        "*   c = lnC1 - ln O1, the normalized close."
      ],
      "metadata": {
        "id": "zTXwUH-Aywej"
      }
    },
    {
      "cell_type": "markdown",
      "source": [
        "Using the aforementioned notation, the classical variance estimator based on the close-to-close prices of an n-period historical data set can be written as"
      ],
      "metadata": {
        "id": "hTh9YK5WzPI1"
      }
    },
    {
      "cell_type": "markdown",
      "source": [
        "![image.png](data:image/png;base64,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)"
      ],
      "metadata": {
        "id": "EOfz8Rw9zSGx"
      }
    },
    {
      "cell_type": "markdown",
      "source": [
        "This estimator is independent of the drift m and the opening jump f and is unbiased, which means E[Vcc] = v*v, where E[ ]denotes taking the expectation. The classical variance estimator Vcc serves as a benchmark for all other variance estimators."
      ],
      "metadata": {
        "id": "gmNhErl6zdIf"
      }
    },
    {
      "cell_type": "code",
      "source": [
        "# Replace invalid values ('-') with NaN\n",
        "df.replace('-', np.nan, inplace=True)\n",
        "df.dropna(subset=['Open', 'High', 'Low'], inplace=True)\n",
        "df"
      ],
      "metadata": {
        "colab": {
          "base_uri": "https://localhost:8080/",
          "height": 423
        },
        "id": "wI-U6vmU0cwu",
        "outputId": "1adb0222-b708-4b2c-91ad-c6c8bc1aefc3"
      },
      "execution_count": null,
      "outputs": [
        {
          "output_type": "execute_result",
          "data": {
            "text/plain": [
              "     Index Name       Date      Open      High       Low     Close\n",
              "0      NIFTY 50  29-Dec-23  21737.65   21770.3   21676.9  21731.40\n",
              "1      NIFTY 50  28-Dec-23     21715  21801.45     21678  21778.70\n",
              "2      NIFTY 50  27-Dec-23  21497.65  21675.75   21495.8  21654.75\n",
              "3      NIFTY 50  26-Dec-23   21365.2  21477.15  21329.45  21441.35\n",
              "4      NIFTY 50  22-Dec-23  21295.85   21390.5  21232.45  21349.40\n",
              "...         ...        ...       ...       ...       ...       ...\n",
              "7001   NIFTY 50  09-Nov-95    960.32    960.32    952.13    953.07\n",
              "7002   NIFTY 50  08-Nov-95    976.28    976.28    962.98    964.01\n",
              "7003   NIFTY 50  07-Nov-95    987.17    987.17    977.05    978.22\n",
              "7004   NIFTY 50  06-Nov-95   1001.53   1001.53    988.92    988.92\n",
              "7005   NIFTY 50  03-Nov-95     994.2   1000.91    992.69   1000.00\n",
              "\n",
              "[7005 rows x 6 columns]"
            ],
            "text/html": [
              "\n",
              "  <div id=\"df-9f72b43c-449c-4b42-bf98-3986a86b8cbf\" class=\"colab-df-container\">\n",
              "    <div>\n",
              "<style scoped>\n",
              "    .dataframe tbody tr th:only-of-type {\n",
              "        vertical-align: middle;\n",
              "    }\n",
              "\n",
              "    .dataframe tbody tr th {\n",
              "        vertical-align: top;\n",
              "    }\n",
              "\n",
              "    .dataframe thead th {\n",
              "        text-align: right;\n",
              "    }\n",
              "</style>\n",
              "<table border=\"1\" class=\"dataframe\">\n",
              "  <thead>\n",
              "    <tr style=\"text-align: right;\">\n",
              "      <th></th>\n",
              "      <th>Index Name</th>\n",
              "      <th>Date</th>\n",
              "      <th>Open</th>\n",
              "      <th>High</th>\n",
              "      <th>Low</th>\n",
              "      <th>Close</th>\n",
              "    </tr>\n",
              "  </thead>\n",
              "  <tbody>\n",
              "    <tr>\n",
              "      <th>0</th>\n",
              "      <td>NIFTY 50</td>\n",
              "      <td>29-Dec-23</td>\n",
              "      <td>21737.65</td>\n",
              "      <td>21770.3</td>\n",
              "      <td>21676.9</td>\n",
              "      <td>21731.40</td>\n",
              "    </tr>\n",
              "    <tr>\n",
              "      <th>1</th>\n",
              "      <td>NIFTY 50</td>\n",
              "      <td>28-Dec-23</td>\n",
              "      <td>21715</td>\n",
              "      <td>21801.45</td>\n",
              "      <td>21678</td>\n",
              "      <td>21778.70</td>\n",
              "    </tr>\n",
              "    <tr>\n",
              "      <th>2</th>\n",
              "      <td>NIFTY 50</td>\n",
              "      <td>27-Dec-23</td>\n",
              "      <td>21497.65</td>\n",
              "      <td>21675.75</td>\n",
              "      <td>21495.8</td>\n",
              "      <td>21654.75</td>\n",
              "    </tr>\n",
              "    <tr>\n",
              "      <th>3</th>\n",
              "      <td>NIFTY 50</td>\n",
              "      <td>26-Dec-23</td>\n",
              "      <td>21365.2</td>\n",
              "      <td>21477.15</td>\n",
              "      <td>21329.45</td>\n",
              "      <td>21441.35</td>\n",
              "    </tr>\n",
              "    <tr>\n",
              "      <th>4</th>\n",
              "      <td>NIFTY 50</td>\n",
              "      <td>22-Dec-23</td>\n",
              "      <td>21295.85</td>\n",
              "      <td>21390.5</td>\n",
              "      <td>21232.45</td>\n",
              "      <td>21349.40</td>\n",
              "    </tr>\n",
              "    <tr>\n",
              "      <th>...</th>\n",
              "      <td>...</td>\n",
              "      <td>...</td>\n",
              "      <td>...</td>\n",
              "      <td>...</td>\n",
              "      <td>...</td>\n",
              "      <td>...</td>\n",
              "    </tr>\n",
              "    <tr>\n",
              "      <th>7001</th>\n",
              "      <td>NIFTY 50</td>\n",
              "      <td>09-Nov-95</td>\n",
              "      <td>960.32</td>\n",
              "      <td>960.32</td>\n",
              "      <td>952.13</td>\n",
              "      <td>953.07</td>\n",
              "    </tr>\n",
              "    <tr>\n",
              "      <th>7002</th>\n",
              "      <td>NIFTY 50</td>\n",
              "      <td>08-Nov-95</td>\n",
              "      <td>976.28</td>\n",
              "      <td>976.28</td>\n",
              "      <td>962.98</td>\n",
              "      <td>964.01</td>\n",
              "    </tr>\n",
              "    <tr>\n",
              "      <th>7003</th>\n",
              "      <td>NIFTY 50</td>\n",
              "      <td>07-Nov-95</td>\n",
              "      <td>987.17</td>\n",
              "      <td>987.17</td>\n",
              "      <td>977.05</td>\n",
              "      <td>978.22</td>\n",
              "    </tr>\n",
              "    <tr>\n",
              "      <th>7004</th>\n",
              "      <td>NIFTY 50</td>\n",
              "      <td>06-Nov-95</td>\n",
              "      <td>1001.53</td>\n",
              "      <td>1001.53</td>\n",
              "      <td>988.92</td>\n",
              "      <td>988.92</td>\n",
              "    </tr>\n",
              "    <tr>\n",
              "      <th>7005</th>\n",
              "      <td>NIFTY 50</td>\n",
              "      <td>03-Nov-95</td>\n",
              "      <td>994.2</td>\n",
              "      <td>1000.91</td>\n",
              "      <td>992.69</td>\n",
              "      <td>1000.00</td>\n",
              "    </tr>\n",
              "  </tbody>\n",
              "</table>\n",
              "<p>7005 rows × 6 columns</p>\n",
              "</div>\n",
              "    <div class=\"colab-df-buttons\">\n",
              "\n",
              "  <div class=\"colab-df-container\">\n",
              "    <button class=\"colab-df-convert\" onclick=\"convertToInteractive('df-9f72b43c-449c-4b42-bf98-3986a86b8cbf')\"\n",
              "            title=\"Convert this dataframe to an interactive table.\"\n",
              "            style=\"display:none;\">\n",
              "\n",
              "  <svg xmlns=\"http://www.w3.org/2000/svg\" height=\"24px\" viewBox=\"0 -960 960 960\">\n",
              "    <path d=\"M120-120v-720h720v720H120Zm60-500h600v-160H180v160Zm220 220h160v-160H400v160Zm0 220h160v-160H400v160ZM180-400h160v-160H180v160Zm440 0h160v-160H620v160ZM180-180h160v-160H180v160Zm440 0h160v-160H620v160Z\"/>\n",
              "  </svg>\n",
              "    </button>\n",
              "\n",
              "  <style>\n",
              "    .colab-df-container {\n",
              "      display:flex;\n",
              "      gap: 12px;\n",
              "    }\n",
              "\n",
              "    .colab-df-convert {\n",
              "      background-color: #E8F0FE;\n",
              "      border: none;\n",
              "      border-radius: 50%;\n",
              "      cursor: pointer;\n",
              "      display: none;\n",
              "      fill: #1967D2;\n",
              "      height: 32px;\n",
              "      padding: 0 0 0 0;\n",
              "      width: 32px;\n",
              "    }\n",
              "\n",
              "    .colab-df-convert:hover {\n",
              "      background-color: #E2EBFA;\n",
              "      box-shadow: 0px 1px 2px rgba(60, 64, 67, 0.3), 0px 1px 3px 1px rgba(60, 64, 67, 0.15);\n",
              "      fill: #174EA6;\n",
              "    }\n",
              "\n",
              "    .colab-df-buttons div {\n",
              "      margin-bottom: 4px;\n",
              "    }\n",
              "\n",
              "    [theme=dark] .colab-df-convert {\n",
              "      background-color: #3B4455;\n",
              "      fill: #D2E3FC;\n",
              "    }\n",
              "\n",
              "    [theme=dark] .colab-df-convert:hover {\n",
              "      background-color: #434B5C;\n",
              "      box-shadow: 0px 1px 3px 1px rgba(0, 0, 0, 0.15);\n",
              "      filter: drop-shadow(0px 1px 2px rgba(0, 0, 0, 0.3));\n",
              "      fill: #FFFFFF;\n",
              "    }\n",
              "  </style>\n",
              "\n",
              "    <script>\n",
              "      const buttonEl =\n",
              "        document.querySelector('#df-9f72b43c-449c-4b42-bf98-3986a86b8cbf button.colab-df-convert');\n",
              "      buttonEl.style.display =\n",
              "        google.colab.kernel.accessAllowed ? 'block' : 'none';\n",
              "\n",
              "      async function convertToInteractive(key) {\n",
              "        const element = document.querySelector('#df-9f72b43c-449c-4b42-bf98-3986a86b8cbf');\n",
              "        const dataTable =\n",
              "          await google.colab.kernel.invokeFunction('convertToInteractive',\n",
              "                                                    [key], {});\n",
              "        if (!dataTable) return;\n",
              "\n",
              "        const docLinkHtml = 'Like what you see? Visit the ' +\n",
              "          '<a target=\"_blank\" href=https://colab.research.google.com/notebooks/data_table.ipynb>data table notebook</a>'\n",
              "          + ' to learn more about interactive tables.';\n",
              "        element.innerHTML = '';\n",
              "        dataTable['output_type'] = 'display_data';\n",
              "        await google.colab.output.renderOutput(dataTable, element);\n",
              "        const docLink = document.createElement('div');\n",
              "        docLink.innerHTML = docLinkHtml;\n",
              "        element.appendChild(docLink);\n",
              "      }\n",
              "    </script>\n",
              "  </div>\n",
              "\n",
              "\n",
              "<div id=\"df-499b7bcc-3f7e-4cdd-8e6e-659ea775ec7c\">\n",
              "  <button class=\"colab-df-quickchart\" onclick=\"quickchart('df-499b7bcc-3f7e-4cdd-8e6e-659ea775ec7c')\"\n",
              "            title=\"Suggest charts\"\n",
              "            style=\"display:none;\">\n",
              "\n",
              "<svg xmlns=\"http://www.w3.org/2000/svg\" height=\"24px\"viewBox=\"0 0 24 24\"\n",
              "     width=\"24px\">\n",
              "    <g>\n",
              "        <path d=\"M19 3H5c-1.1 0-2 .9-2 2v14c0 1.1.9 2 2 2h14c1.1 0 2-.9 2-2V5c0-1.1-.9-2-2-2zM9 17H7v-7h2v7zm4 0h-2V7h2v10zm4 0h-2v-4h2v4z\"/>\n",
              "    </g>\n",
              "</svg>\n",
              "  </button>\n",
              "\n",
              "<style>\n",
              "  .colab-df-quickchart {\n",
              "      --bg-color: #E8F0FE;\n",
              "      --fill-color: #1967D2;\n",
              "      --hover-bg-color: #E2EBFA;\n",
              "      --hover-fill-color: #174EA6;\n",
              "      --disabled-fill-color: #AAA;\n",
              "      --disabled-bg-color: #DDD;\n",
              "  }\n",
              "\n",
              "  [theme=dark] .colab-df-quickchart {\n",
              "      --bg-color: #3B4455;\n",
              "      --fill-color: #D2E3FC;\n",
              "      --hover-bg-color: #434B5C;\n",
              "      --hover-fill-color: #FFFFFF;\n",
              "      --disabled-bg-color: #3B4455;\n",
              "      --disabled-fill-color: #666;\n",
              "  }\n",
              "\n",
              "  .colab-df-quickchart {\n",
              "    background-color: var(--bg-color);\n",
              "    border: none;\n",
              "    border-radius: 50%;\n",
              "    cursor: pointer;\n",
              "    display: none;\n",
              "    fill: var(--fill-color);\n",
              "    height: 32px;\n",
              "    padding: 0;\n",
              "    width: 32px;\n",
              "  }\n",
              "\n",
              "  .colab-df-quickchart:hover {\n",
              "    background-color: var(--hover-bg-color);\n",
              "    box-shadow: 0 1px 2px rgba(60, 64, 67, 0.3), 0 1px 3px 1px rgba(60, 64, 67, 0.15);\n",
              "    fill: var(--button-hover-fill-color);\n",
              "  }\n",
              "\n",
              "  .colab-df-quickchart-complete:disabled,\n",
              "  .colab-df-quickchart-complete:disabled:hover {\n",
              "    background-color: var(--disabled-bg-color);\n",
              "    fill: var(--disabled-fill-color);\n",
              "    box-shadow: none;\n",
              "  }\n",
              "\n",
              "  .colab-df-spinner {\n",
              "    border: 2px solid var(--fill-color);\n",
              "    border-color: transparent;\n",
              "    border-bottom-color: var(--fill-color);\n",
              "    animation:\n",
              "      spin 1s steps(1) infinite;\n",
              "  }\n",
              "\n",
              "  @keyframes spin {\n",
              "    0% {\n",
              "      border-color: transparent;\n",
              "      border-bottom-color: var(--fill-color);\n",
              "      border-left-color: var(--fill-color);\n",
              "    }\n",
              "    20% {\n",
              "      border-color: transparent;\n",
              "      border-left-color: var(--fill-color);\n",
              "      border-top-color: var(--fill-color);\n",
              "    }\n",
              "    30% {\n",
              "      border-color: transparent;\n",
              "      border-left-color: var(--fill-color);\n",
              "      border-top-color: var(--fill-color);\n",
              "      border-right-color: var(--fill-color);\n",
              "    }\n",
              "    40% {\n",
              "      border-color: transparent;\n",
              "      border-right-color: var(--fill-color);\n",
              "      border-top-color: var(--fill-color);\n",
              "    }\n",
              "    60% {\n",
              "      border-color: transparent;\n",
              "      border-right-color: var(--fill-color);\n",
              "    }\n",
              "    80% {\n",
              "      border-color: transparent;\n",
              "      border-right-color: var(--fill-color);\n",
              "      border-bottom-color: var(--fill-color);\n",
              "    }\n",
              "    90% {\n",
              "      border-color: transparent;\n",
              "      border-bottom-color: var(--fill-color);\n",
              "    }\n",
              "  }\n",
              "</style>\n",
              "\n",
              "  <script>\n",
              "    async function quickchart(key) {\n",
              "      const quickchartButtonEl =\n",
              "        document.querySelector('#' + key + ' button');\n",
              "      quickchartButtonEl.disabled = true;  // To prevent multiple clicks.\n",
              "      quickchartButtonEl.classList.add('colab-df-spinner');\n",
              "      try {\n",
              "        const charts = await google.colab.kernel.invokeFunction(\n",
              "            'suggestCharts', [key], {});\n",
              "      } catch (error) {\n",
              "        console.error('Error during call to suggestCharts:', error);\n",
              "      }\n",
              "      quickchartButtonEl.classList.remove('colab-df-spinner');\n",
              "      quickchartButtonEl.classList.add('colab-df-quickchart-complete');\n",
              "    }\n",
              "    (() => {\n",
              "      let quickchartButtonEl =\n",
              "        document.querySelector('#df-499b7bcc-3f7e-4cdd-8e6e-659ea775ec7c button');\n",
              "      quickchartButtonEl.style.display =\n",
              "        google.colab.kernel.accessAllowed ? 'block' : 'none';\n",
              "    })();\n",
              "  </script>\n",
              "</div>\n",
              "\n",
              "  <div id=\"id_66461c84-e771-4c48-a181-76c89739e1fa\">\n",
              "    <style>\n",
              "      .colab-df-generate {\n",
              "        background-color: #E8F0FE;\n",
              "        border: none;\n",
              "        border-radius: 50%;\n",
              "        cursor: pointer;\n",
              "        display: none;\n",
              "        fill: #1967D2;\n",
              "        height: 32px;\n",
              "        padding: 0 0 0 0;\n",
              "        width: 32px;\n",
              "      }\n",
              "\n",
              "      .colab-df-generate:hover {\n",
              "        background-color: #E2EBFA;\n",
              "        box-shadow: 0px 1px 2px rgba(60, 64, 67, 0.3), 0px 1px 3px 1px rgba(60, 64, 67, 0.15);\n",
              "        fill: #174EA6;\n",
              "      }\n",
              "\n",
              "      [theme=dark] .colab-df-generate {\n",
              "        background-color: #3B4455;\n",
              "        fill: #D2E3FC;\n",
              "      }\n",
              "\n",
              "      [theme=dark] .colab-df-generate:hover {\n",
              "        background-color: #434B5C;\n",
              "        box-shadow: 0px 1px 3px 1px rgba(0, 0, 0, 0.15);\n",
              "        filter: drop-shadow(0px 1px 2px rgba(0, 0, 0, 0.3));\n",
              "        fill: #FFFFFF;\n",
              "      }\n",
              "    </style>\n",
              "    <button class=\"colab-df-generate\" onclick=\"generateWithVariable('df')\"\n",
              "            title=\"Generate code using this dataframe.\"\n",
              "            style=\"display:none;\">\n",
              "\n",
              "  <svg xmlns=\"http://www.w3.org/2000/svg\" height=\"24px\"viewBox=\"0 0 24 24\"\n",
              "       width=\"24px\">\n",
              "    <path d=\"M7,19H8.4L18.45,9,17,7.55,7,17.6ZM5,21V16.75L18.45,3.32a2,2,0,0,1,2.83,0l1.4,1.43a1.91,1.91,0,0,1,.58,1.4,1.91,1.91,0,0,1-.58,1.4L9.25,21ZM18.45,9,17,7.55Zm-12,3A5.31,5.31,0,0,0,4.9,8.1,5.31,5.31,0,0,0,1,6.5,5.31,5.31,0,0,0,4.9,4.9,5.31,5.31,0,0,0,6.5,1,5.31,5.31,0,0,0,8.1,4.9,5.31,5.31,0,0,0,12,6.5,5.46,5.46,0,0,0,6.5,12Z\"/>\n",
              "  </svg>\n",
              "    </button>\n",
              "    <script>\n",
              "      (() => {\n",
              "      const buttonEl =\n",
              "        document.querySelector('#id_66461c84-e771-4c48-a181-76c89739e1fa button.colab-df-generate');\n",
              "      buttonEl.style.display =\n",
              "        google.colab.kernel.accessAllowed ? 'block' : 'none';\n",
              "\n",
              "      buttonEl.onclick = () => {\n",
              "        google.colab.notebook.generateWithVariable('df');\n",
              "      }\n",
              "      })();\n",
              "    </script>\n",
              "  </div>\n",
              "\n",
              "    </div>\n",
              "  </div>\n"
            ],
            "application/vnd.google.colaboratory.intrinsic+json": {
              "type": "dataframe",
              "variable_name": "df",
              "summary": "{\n  \"name\": \"df\",\n  \"rows\": 7005,\n  \"fields\": [\n    {\n      \"column\": \"Index Name\",\n      \"properties\": {\n        \"dtype\": \"category\",\n        \"num_unique_values\": 1,\n        \"samples\": [\n          \"NIFTY 50\"\n        ],\n        \"semantic_type\": \"\",\n        \"description\": \"\"\n      }\n    },\n    {\n      \"column\": \"Date\",\n      \"properties\": {\n        \"dtype\": \"object\",\n        \"num_unique_values\": 7005,\n        \"samples\": [\n          \"09-Jan-12\"\n        ],\n        \"semantic_type\": \"\",\n        \"description\": \"\"\n      }\n    },\n    {\n      \"column\": \"Open\",\n      \"properties\": {\n        \"dtype\": \"string\",\n        \"num_unique_values\": 6809,\n        \"samples\": [\n          \"9461\"\n        ],\n        \"semantic_type\": \"\",\n        \"description\": \"\"\n      }\n    },\n    {\n      \"column\": \"High\",\n      \"properties\": {\n        \"dtype\": \"string\",\n        \"num_unique_values\": 6828,\n        \"samples\": [\n          \"5020.25\"\n        ],\n        \"semantic_type\": \"\",\n        \"description\": \"\"\n      }\n    },\n    {\n      \"column\": \"Low\",\n      \"properties\": {\n        \"dtype\": \"string\",\n        \"num_unique_values\": 6802,\n        \"samples\": [\n          \"5858.45\"\n        ],\n        \"semantic_type\": \"\",\n        \"description\": \"\"\n      }\n    },\n    {\n      \"column\": \"Close\",\n      \"properties\": {\n        \"dtype\": \"number\",\n        \"std\": 5151.308105918693,\n        \"min\": 788.15,\n        \"max\": 21778.7,\n        \"num_unique_values\": 6808,\n        \"samples\": [\n          1786.8\n        ],\n        \"semantic_type\": \"\",\n        \"description\": \"\"\n      }\n    }\n  ]\n}"
            }
          },
          "metadata": {},
          "execution_count": 11
        }
      ]
    },
    {
      "cell_type": "code",
      "source": [
        "#to ensure that data is in the floating-point format, allowing for decimal and fractional values\n",
        "df['Open'] = df['Open'].astype(float)\n",
        "df['High'] = df['High'].astype(float)\n",
        "df['Low'] = df['Low'].astype(float)"
      ],
      "metadata": {
        "id": "HMpWh4NQ0q_S"
      },
      "execution_count": null,
      "outputs": []
    },
    {
      "cell_type": "code",
      "source": [
        "df['u'] = np.log(df['High']) - np.log(df['Open'])\n",
        "df['d'] = np.log(df['Low']) - np.log(df['Open'])\n",
        "df['c'] = np.log(df['Close']) - np.log(df['Open'])\n",
        "df['o'] = np.log(df['Open']) - np.log(df['Close']).shift(1)\n",
        "df.head()"
      ],
      "metadata": {
        "colab": {
          "base_uri": "https://localhost:8080/",
          "height": 206
        },
        "id": "4AW_Gvfb1nz0",
        "outputId": "d3ce9a75-8ae3-44fb-d889-79395500e879"
      },
      "execution_count": null,
      "outputs": [
        {
          "output_type": "execute_result",
          "data": {
            "text/plain": [
              "  Index Name       Date      Open      High       Low     Close         u  \\\n",
              "0   NIFTY 50  29-Dec-23  21737.65  21770.30  21676.90  21731.40  0.001501   \n",
              "1   NIFTY 50  28-Dec-23  21715.00  21801.45  21678.00  21778.70  0.003973   \n",
              "2   NIFTY 50  27-Dec-23  21497.65  21675.75  21495.80  21654.75  0.008250   \n",
              "3   NIFTY 50  26-Dec-23  21365.20  21477.15  21329.45  21441.35  0.005226   \n",
              "4   NIFTY 50  22-Dec-23  21295.85  21390.50  21232.45  21349.40  0.004435   \n",
              "\n",
              "          d         c         o  \n",
              "0 -0.002799 -0.000288       NaN  \n",
              "1 -0.001705  0.002929 -0.000755  \n",
              "2 -0.000086  0.007281 -0.012989  \n",
              "3 -0.001675  0.003558 -0.013461  \n",
              "4 -0.002982  0.002511 -0.006809  "
            ],
            "text/html": [
              "\n",
              "  <div id=\"df-7fc01500-6bcb-413c-96e8-4adeb26c3a28\" class=\"colab-df-container\">\n",
              "    <div>\n",
              "<style scoped>\n",
              "    .dataframe tbody tr th:only-of-type {\n",
              "        vertical-align: middle;\n",
              "    }\n",
              "\n",
              "    .dataframe tbody tr th {\n",
              "        vertical-align: top;\n",
              "    }\n",
              "\n",
              "    .dataframe thead th {\n",
              "        text-align: right;\n",
              "    }\n",
              "</style>\n",
              "<table border=\"1\" class=\"dataframe\">\n",
              "  <thead>\n",
              "    <tr style=\"text-align: right;\">\n",
              "      <th></th>\n",
              "      <th>Index Name</th>\n",
              "      <th>Date</th>\n",
              "      <th>Open</th>\n",
              "      <th>High</th>\n",
              "      <th>Low</th>\n",
              "      <th>Close</th>\n",
              "      <th>u</th>\n",
              "      <th>d</th>\n",
              "      <th>c</th>\n",
              "      <th>o</th>\n",
              "    </tr>\n",
              "  </thead>\n",
              "  <tbody>\n",
              "    <tr>\n",
              "      <th>0</th>\n",
              "      <td>NIFTY 50</td>\n",
              "      <td>29-Dec-23</td>\n",
              "      <td>21737.65</td>\n",
              "      <td>21770.30</td>\n",
              "      <td>21676.90</td>\n",
              "      <td>21731.40</td>\n",
              "      <td>0.001501</td>\n",
              "      <td>-0.002799</td>\n",
              "      <td>-0.000288</td>\n",
              "      <td>NaN</td>\n",
              "    </tr>\n",
              "    <tr>\n",
              "      <th>1</th>\n",
              "      <td>NIFTY 50</td>\n",
              "      <td>28-Dec-23</td>\n",
              "      <td>21715.00</td>\n",
              "      <td>21801.45</td>\n",
              "      <td>21678.00</td>\n",
              "      <td>21778.70</td>\n",
              "      <td>0.003973</td>\n",
              "      <td>-0.001705</td>\n",
              "      <td>0.002929</td>\n",
              "      <td>-0.000755</td>\n",
              "    </tr>\n",
              "    <tr>\n",
              "      <th>2</th>\n",
              "      <td>NIFTY 50</td>\n",
              "      <td>27-Dec-23</td>\n",
              "      <td>21497.65</td>\n",
              "      <td>21675.75</td>\n",
              "      <td>21495.80</td>\n",
              "      <td>21654.75</td>\n",
              "      <td>0.008250</td>\n",
              "      <td>-0.000086</td>\n",
              "      <td>0.007281</td>\n",
              "      <td>-0.012989</td>\n",
              "    </tr>\n",
              "    <tr>\n",
              "      <th>3</th>\n",
              "      <td>NIFTY 50</td>\n",
              "      <td>26-Dec-23</td>\n",
              "      <td>21365.20</td>\n",
              "      <td>21477.15</td>\n",
              "      <td>21329.45</td>\n",
              "      <td>21441.35</td>\n",
              "      <td>0.005226</td>\n",
              "      <td>-0.001675</td>\n",
              "      <td>0.003558</td>\n",
              "      <td>-0.013461</td>\n",
              "    </tr>\n",
              "    <tr>\n",
              "      <th>4</th>\n",
              "      <td>NIFTY 50</td>\n",
              "      <td>22-Dec-23</td>\n",
              "      <td>21295.85</td>\n",
              "      <td>21390.50</td>\n",
              "      <td>21232.45</td>\n",
              "      <td>21349.40</td>\n",
              "      <td>0.004435</td>\n",
              "      <td>-0.002982</td>\n",
              "      <td>0.002511</td>\n",
              "      <td>-0.006809</td>\n",
              "    </tr>\n",
              "  </tbody>\n",
              "</table>\n",
              "</div>\n",
              "    <div class=\"colab-df-buttons\">\n",
              "\n",
              "  <div class=\"colab-df-container\">\n",
              "    <button class=\"colab-df-convert\" onclick=\"convertToInteractive('df-7fc01500-6bcb-413c-96e8-4adeb26c3a28')\"\n",
              "            title=\"Convert this dataframe to an interactive table.\"\n",
              "            style=\"display:none;\">\n",
              "\n",
              "  <svg xmlns=\"http://www.w3.org/2000/svg\" height=\"24px\" viewBox=\"0 -960 960 960\">\n",
              "    <path d=\"M120-120v-720h720v720H120Zm60-500h600v-160H180v160Zm220 220h160v-160H400v160Zm0 220h160v-160H400v160ZM180-400h160v-160H180v160Zm440 0h160v-160H620v160ZM180-180h160v-160H180v160Zm440 0h160v-160H620v160Z\"/>\n",
              "  </svg>\n",
              "    </button>\n",
              "\n",
              "  <style>\n",
              "    .colab-df-container {\n",
              "      display:flex;\n",
              "      gap: 12px;\n",
              "    }\n",
              "\n",
              "    .colab-df-convert {\n",
              "      background-color: #E8F0FE;\n",
              "      border: none;\n",
              "      border-radius: 50%;\n",
              "      cursor: pointer;\n",
              "      display: none;\n",
              "      fill: #1967D2;\n",
              "      height: 32px;\n",
              "      padding: 0 0 0 0;\n",
              "      width: 32px;\n",
              "    }\n",
              "\n",
              "    .colab-df-convert:hover {\n",
              "      background-color: #E2EBFA;\n",
              "      box-shadow: 0px 1px 2px rgba(60, 64, 67, 0.3), 0px 1px 3px 1px rgba(60, 64, 67, 0.15);\n",
              "      fill: #174EA6;\n",
              "    }\n",
              "\n",
              "    .colab-df-buttons div {\n",
              "      margin-bottom: 4px;\n",
              "    }\n",
              "\n",
              "    [theme=dark] .colab-df-convert {\n",
              "      background-color: #3B4455;\n",
              "      fill: #D2E3FC;\n",
              "    }\n",
              "\n",
              "    [theme=dark] .colab-df-convert:hover {\n",
              "      background-color: #434B5C;\n",
              "      box-shadow: 0px 1px 3px 1px rgba(0, 0, 0, 0.15);\n",
              "      filter: drop-shadow(0px 1px 2px rgba(0, 0, 0, 0.3));\n",
              "      fill: #FFFFFF;\n",
              "    }\n",
              "  </style>\n",
              "\n",
              "    <script>\n",
              "      const buttonEl =\n",
              "        document.querySelector('#df-7fc01500-6bcb-413c-96e8-4adeb26c3a28 button.colab-df-convert');\n",
              "      buttonEl.style.display =\n",
              "        google.colab.kernel.accessAllowed ? 'block' : 'none';\n",
              "\n",
              "      async function convertToInteractive(key) {\n",
              "        const element = document.querySelector('#df-7fc01500-6bcb-413c-96e8-4adeb26c3a28');\n",
              "        const dataTable =\n",
              "          await google.colab.kernel.invokeFunction('convertToInteractive',\n",
              "                                                    [key], {});\n",
              "        if (!dataTable) return;\n",
              "\n",
              "        const docLinkHtml = 'Like what you see? Visit the ' +\n",
              "          '<a target=\"_blank\" href=https://colab.research.google.com/notebooks/data_table.ipynb>data table notebook</a>'\n",
              "          + ' to learn more about interactive tables.';\n",
              "        element.innerHTML = '';\n",
              "        dataTable['output_type'] = 'display_data';\n",
              "        await google.colab.output.renderOutput(dataTable, element);\n",
              "        const docLink = document.createElement('div');\n",
              "        docLink.innerHTML = docLinkHtml;\n",
              "        element.appendChild(docLink);\n",
              "      }\n",
              "    </script>\n",
              "  </div>\n",
              "\n",
              "\n",
              "<div id=\"df-a50b506d-3f34-42ec-bc20-f3385379c162\">\n",
              "  <button class=\"colab-df-quickchart\" onclick=\"quickchart('df-a50b506d-3f34-42ec-bc20-f3385379c162')\"\n",
              "            title=\"Suggest charts\"\n",
              "            style=\"display:none;\">\n",
              "\n",
              "<svg xmlns=\"http://www.w3.org/2000/svg\" height=\"24px\"viewBox=\"0 0 24 24\"\n",
              "     width=\"24px\">\n",
              "    <g>\n",
              "        <path d=\"M19 3H5c-1.1 0-2 .9-2 2v14c0 1.1.9 2 2 2h14c1.1 0 2-.9 2-2V5c0-1.1-.9-2-2-2zM9 17H7v-7h2v7zm4 0h-2V7h2v10zm4 0h-2v-4h2v4z\"/>\n",
              "    </g>\n",
              "</svg>\n",
              "  </button>\n",
              "\n",
              "<style>\n",
              "  .colab-df-quickchart {\n",
              "      --bg-color: #E8F0FE;\n",
              "      --fill-color: #1967D2;\n",
              "      --hover-bg-color: #E2EBFA;\n",
              "      --hover-fill-color: #174EA6;\n",
              "      --disabled-fill-color: #AAA;\n",
              "      --disabled-bg-color: #DDD;\n",
              "  }\n",
              "\n",
              "  [theme=dark] .colab-df-quickchart {\n",
              "      --bg-color: #3B4455;\n",
              "      --fill-color: #D2E3FC;\n",
              "      --hover-bg-color: #434B5C;\n",
              "      --hover-fill-color: #FFFFFF;\n",
              "      --disabled-bg-color: #3B4455;\n",
              "      --disabled-fill-color: #666;\n",
              "  }\n",
              "\n",
              "  .colab-df-quickchart {\n",
              "    background-color: var(--bg-color);\n",
              "    border: none;\n",
              "    border-radius: 50%;\n",
              "    cursor: pointer;\n",
              "    display: none;\n",
              "    fill: var(--fill-color);\n",
              "    height: 32px;\n",
              "    padding: 0;\n",
              "    width: 32px;\n",
              "  }\n",
              "\n",
              "  .colab-df-quickchart:hover {\n",
              "    background-color: var(--hover-bg-color);\n",
              "    box-shadow: 0 1px 2px rgba(60, 64, 67, 0.3), 0 1px 3px 1px rgba(60, 64, 67, 0.15);\n",
              "    fill: var(--button-hover-fill-color);\n",
              "  }\n",
              "\n",
              "  .colab-df-quickchart-complete:disabled,\n",
              "  .colab-df-quickchart-complete:disabled:hover {\n",
              "    background-color: var(--disabled-bg-color);\n",
              "    fill: var(--disabled-fill-color);\n",
              "    box-shadow: none;\n",
              "  }\n",
              "\n",
              "  .colab-df-spinner {\n",
              "    border: 2px solid var(--fill-color);\n",
              "    border-color: transparent;\n",
              "    border-bottom-color: var(--fill-color);\n",
              "    animation:\n",
              "      spin 1s steps(1) infinite;\n",
              "  }\n",
              "\n",
              "  @keyframes spin {\n",
              "    0% {\n",
              "      border-color: transparent;\n",
              "      border-bottom-color: var(--fill-color);\n",
              "      border-left-color: var(--fill-color);\n",
              "    }\n",
              "    20% {\n",
              "      border-color: transparent;\n",
              "      border-left-color: var(--fill-color);\n",
              "      border-top-color: var(--fill-color);\n",
              "    }\n",
              "    30% {\n",
              "      border-color: transparent;\n",
              "      border-left-color: var(--fill-color);\n",
              "      border-top-color: var(--fill-color);\n",
              "      border-right-color: var(--fill-color);\n",
              "    }\n",
              "    40% {\n",
              "      border-color: transparent;\n",
              "      border-right-color: var(--fill-color);\n",
              "      border-top-color: var(--fill-color);\n",
              "    }\n",
              "    60% {\n",
              "      border-color: transparent;\n",
              "      border-right-color: var(--fill-color);\n",
              "    }\n",
              "    80% {\n",
              "      border-color: transparent;\n",
              "      border-right-color: var(--fill-color);\n",
              "      border-bottom-color: var(--fill-color);\n",
              "    }\n",
              "    90% {\n",
              "      border-color: transparent;\n",
              "      border-bottom-color: var(--fill-color);\n",
              "    }\n",
              "  }\n",
              "</style>\n",
              "\n",
              "  <script>\n",
              "    async function quickchart(key) {\n",
              "      const quickchartButtonEl =\n",
              "        document.querySelector('#' + key + ' button');\n",
              "      quickchartButtonEl.disabled = true;  // To prevent multiple clicks.\n",
              "      quickchartButtonEl.classList.add('colab-df-spinner');\n",
              "      try {\n",
              "        const charts = await google.colab.kernel.invokeFunction(\n",
              "            'suggestCharts', [key], {});\n",
              "      } catch (error) {\n",
              "        console.error('Error during call to suggestCharts:', error);\n",
              "      }\n",
              "      quickchartButtonEl.classList.remove('colab-df-spinner');\n",
              "      quickchartButtonEl.classList.add('colab-df-quickchart-complete');\n",
              "    }\n",
              "    (() => {\n",
              "      let quickchartButtonEl =\n",
              "        document.querySelector('#df-a50b506d-3f34-42ec-bc20-f3385379c162 button');\n",
              "      quickchartButtonEl.style.display =\n",
              "        google.colab.kernel.accessAllowed ? 'block' : 'none';\n",
              "    })();\n",
              "  </script>\n",
              "</div>\n",
              "\n",
              "    </div>\n",
              "  </div>\n"
            ],
            "application/vnd.google.colaboratory.intrinsic+json": {
              "type": "dataframe",
              "variable_name": "df",
              "summary": "{\n  \"name\": \"df\",\n  \"rows\": 7005,\n  \"fields\": [\n    {\n      \"column\": \"Index Name\",\n      \"properties\": {\n        \"dtype\": \"category\",\n        \"num_unique_values\": 1,\n        \"samples\": [\n          \"NIFTY 50\"\n        ],\n        \"semantic_type\": \"\",\n        \"description\": \"\"\n      }\n    },\n    {\n      \"column\": \"Date\",\n      \"properties\": {\n        \"dtype\": \"object\",\n        \"num_unique_values\": 7005,\n        \"samples\": [\n          \"09-Jan-12\"\n        ],\n        \"semantic_type\": \"\",\n        \"description\": \"\"\n      }\n    },\n    {\n      \"column\": \"Open\",\n      \"properties\": {\n        \"dtype\": \"number\",\n        \"std\": 5155.1083739760215,\n        \"min\": 786.37,\n        \"max\": 21737.65,\n        \"num_unique_values\": 6809,\n        \"samples\": [\n          9461.0\n        ],\n        \"semantic_type\": \"\",\n        \"description\": \"\"\n      }\n    },\n    {\n      \"column\": \"High\",\n      \"properties\": {\n        \"dtype\": \"number\",\n        \"std\": 5173.160026096964,\n        \"min\": 805.82,\n        \"max\": 21801.45,\n        \"num_unique_values\": 6828,\n        \"samples\": [\n          5020.25\n        ],\n        \"semantic_type\": \"\",\n        \"description\": \"\"\n      }\n    },\n    {\n      \"column\": \"Low\",\n      \"properties\": {\n        \"dtype\": \"number\",\n        \"std\": 5127.172016222069,\n        \"min\": 775.43,\n        \"max\": 21678.0,\n        \"num_unique_values\": 6802,\n        \"samples\": [\n          5858.45\n        ],\n        \"semantic_type\": \"\",\n        \"description\": \"\"\n      }\n    },\n    {\n      \"column\": \"Close\",\n      \"properties\": {\n        \"dtype\": \"number\",\n        \"std\": 5151.308105918693,\n        \"min\": 788.15,\n        \"max\": 21778.7,\n        \"num_unique_values\": 6808,\n        \"samples\": [\n          1786.8\n        ],\n        \"semantic_type\": \"\",\n        \"description\": \"\"\n      }\n    },\n    {\n      \"column\": \"u\",\n      \"properties\": {\n        \"dtype\": \"number\",\n        \"std\": 0.009212267123705117,\n        \"min\": 0.0,\n        \"max\": 0.17698037340612593,\n        \"num_unique_values\": 6633,\n        \"samples\": [\n          0.002902460492325787\n        ],\n        \"semantic_type\": \"\",\n        \"description\": \"\"\n      }\n    },\n    {\n      \"column\": \"d\",\n      \"properties\": {\n        \"dtype\": \"number\",\n        \"std\": 0.011364238477625736,\n        \"min\": -0.20265968289426617,\n        \"max\": 0.0,\n        \"num_unique_values\": 6453,\n        \"samples\": [\n          -0.000976133612575758\n        ],\n        \"semantic_type\": \"\",\n        \"description\": \"\"\n      }\n    },\n    {\n      \"column\": \"c\",\n      \"properties\": {\n        \"dtype\": \"number\",\n        \"std\": 0.013697332865371552,\n        \"min\": -0.1306018130644908,\n        \"max\": 0.16293469865457766,\n        \"num_unique_values\": 7000,\n        \"samples\": [\n          -0.026721129088567608\n        ],\n        \"semantic_type\": \"\",\n        \"description\": \"\"\n      }\n    },\n    {\n      \"column\": \"o\",\n      \"properties\": {\n        \"dtype\": \"number\",\n        \"std\": 0.020522321778056605,\n        \"min\": -0.1836478583782153,\n        \"max\": 0.21220364007875503,\n        \"num_unique_values\": 7000,\n        \"samples\": [\n          0.018942339750161352\n        ],\n        \"semantic_type\": \"\",\n        \"description\": \"\"\n      }\n    }\n  ]\n}"
            }
          },
          "metadata": {},
          "execution_count": 13
        }
      ]
    },
    {
      "cell_type": "code",
      "source": [
        "n = len(df)\n",
        "normalised_value = 1/n *np.nansum(df['o'] + df['c'])\n",
        "Vcc = 1/(n -1) * np.nansum((df['o'] + df['c'] - normalised_value) * (df['o'] + df['c'] - normalised_value))\n",
        "Vcc"
      ],
      "metadata": {
        "colab": {
          "base_uri": "https://localhost:8080/"
        },
        "id": "UBc4S8_W0rCq",
        "outputId": "0bf1c190-dbfa-4914-8b8b-4e24666f0a80"
      },
      "execution_count": null,
      "outputs": [
        {
          "output_type": "execute_result",
          "data": {
            "text/plain": [
              "0.00021224963428618338"
            ]
          },
          "metadata": {},
          "execution_count": 14
        }
      ]
    },
    {
      "cell_type": "markdown",
      "source": [
        "## **Parkinson (1980) found a variance estimator using the high and low prices only**\n",
        "\n",
        "![Screenshot (2056).png](data:image/png;base64,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)\n"
      ],
      "metadata": {
        "id": "iGGmDHak1z23"
      }
    },
    {
      "cell_type": "code",
      "source": [
        "Vp = 1/n * 1/4* 1/np.log(2)*sum((df['u'] - df['d']) *(df['u'] - df['d']))\n",
        "Vp"
      ],
      "metadata": {
        "colab": {
          "base_uri": "https://localhost:8080/"
        },
        "id": "5WHOzCBj1n3J",
        "outputId": "9006c172-2137-43e6-d47a-4886799ed954"
      },
      "execution_count": null,
      "outputs": [
        {
          "output_type": "execute_result",
          "data": {
            "text/plain": [
              "0.00016558211467839433"
            ]
          },
          "metadata": {},
          "execution_count": 15
        }
      ]
    },
    {
      "cell_type": "markdown",
      "source": [
        "## **A better variance estimator using the high, low, and close prices was found by Rogers and Satchell (1991) and Rogers, Satchell, and Yoon (1994)**\n",
        "\n",
        "![Screenshot (2057).png](data:image/png;base64,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)"
      ],
      "metadata": {
        "id": "U1Ecre2y7ihZ"
      }
    },
    {
      "cell_type": "code",
      "source": [
        "Vrs = 1/n *sum(df['u']*(df['u'] - df['c'])+ df['d']*(df['d'] - df['c']))\n",
        "Vrs"
      ],
      "metadata": {
        "colab": {
          "base_uri": "https://localhost:8080/"
        },
        "id": "nC-2DWjQ7ooh",
        "outputId": "3d5926d7-da67-4fcd-c9c1-145ed5dff4a3"
      },
      "execution_count": null,
      "outputs": [
        {
          "output_type": "execute_result",
          "data": {
            "text/plain": [
              "0.00015946908536558876"
            ]
          },
          "metadata": {},
          "execution_count": 16
        }
      ]
    },
    {
      "cell_type": "markdown",
      "source": [
        "It is better than Vp because\n",
        "\n",
        "1.   Var(Vrs) < Var(Vp)\n",
        "2.   unlike\n",
        "Vp , Vrs is independent of the drift\n",
        "\n"
      ],
      "metadata": {
        "id": "eQQoWeBP8UL-"
      }
    },
    {
      "cell_type": "markdown",
      "source": [
        "Another important feature of Vrs is\n",
        "that Vrs equals zero when the security price makes a one-direction\n",
        "move, either u = c and d = 0 for a straight-up move or d = c and u\n",
        "= 0 for a straight-down move. This is because the price movements in\n",
        "such situations can be explained by the drift term alone (zero variance).\n",
        "However, Vrs still assumes no opening jumps ( f = 0)."
      ],
      "metadata": {
        "id": "CmcOOOCV-OkD"
      }
    },
    {
      "cell_type": "markdown",
      "source": [
        "## **Under the assumption of no drift, Garman and Klass (1980) derived analytically that the minimum-variance unbiased variance estimator is of the following combination**\n",
        "\n",
        "![Screenshot (2058).png](data:image/png;base64,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)"
      ],
      "metadata": {
        "id": "9Z-e0mt9-grb"
      }
    },
    {
      "cell_type": "code",
      "source": [
        "Vo_ = 1/n * (df['o'] * df['o']).sum(skipna=True)\n",
        "Vc_ = 1/n * (df['c'] * df['c']).sum(skipna=True)"
      ],
      "metadata": {
        "id": "ef6yNCjv-eq0"
      },
      "execution_count": null,
      "outputs": []
    },
    {
      "cell_type": "code",
      "source": [
        "Vgk =  Vo_ - 0.383*Vc_ + 1.364*Vp + 0.019*Vrs\n",
        "Vgk"
      ],
      "metadata": {
        "colab": {
          "base_uri": "https://localhost:8080/"
        },
        "id": "RJMTdAD9AJI3",
        "outputId": "eddcdd44-e851-47d0-cf50-b6121c290ccf"
      },
      "execution_count": null,
      "outputs": [
        {
          "output_type": "execute_result",
          "data": {
            "text/plain": [
              "0.0005780614746770721"
            ]
          },
          "metadata": {},
          "execution_count": 18
        }
      ]
    },
    {
      "cell_type": "markdown",
      "source": [
        "#**A Minimum-Variance Unbiased Variance Estimator Based on Multiple-Period Data**"
      ],
      "metadata": {
        "id": "CwDu8OAcG1pT"
      }
    },
    {
      "cell_type": "markdown",
      "source": [
        "The minimum-variance unbiased variance estimator that is independent of the drift m and the opening jump f must have the following form:\n",
        "![Screenshot (2059).png](data:image/png;base64,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)"
      ],
      "metadata": {
        "id": "b5KQVf_RHA-2"
      }
    },
    {
      "cell_type": "code",
      "source": [
        "o_ = 1/(n) * (df['o']).sum(skipna=True)\n",
        "c_ = 1/(n) * (df['c']).sum(skipna=True)\n",
        "print(o_,c_)"
      ],
      "metadata": {
        "colab": {
          "base_uri": "https://localhost:8080/"
        },
        "id": "tyUjyuIDBCLD",
        "outputId": "9d87e58c-148c-4832-d2e0-163e03cbafdf"
      },
      "execution_count": null,
      "outputs": [
        {
          "output_type": "stream",
          "name": "stdout",
          "text": [
            "-0.0001278540085121417 -0.0003116957102850221\n"
          ]
        }
      ]
    },
    {
      "cell_type": "code",
      "source": [
        "Vo = 1/(n -1) * ((df['o']- o_)*(df['o']- o_) ).sum(skipna=True)\n",
        "Vc = 1/(n -1) * ((df['c']- c_)*(df['c']- c_) ).sum(skipna=True)\n",
        "print(Vo,Vc)"
      ],
      "metadata": {
        "colab": {
          "base_uri": "https://localhost:8080/"
        },
        "id": "YEeHmo6-H2HW",
        "outputId": "ad683c8b-42bf-4570-e2ff-5ace45fbff31"
      },
      "execution_count": null,
      "outputs": [
        {
          "output_type": "stream",
          "name": "stdout",
          "text": [
            "0.00042110555899635844 0.00018761692762478765\n"
          ]
        }
      ]
    },
    {
      "cell_type": "code",
      "source": [
        "f = 0.25 #fraction of time market is closed, the unobservable time interval fraction in which opening jump and drift occurs\n",
        "alpha = 1.34 #the expectation of square of u(u-c) + d(d-c)"
      ],
      "metadata": {
        "id": "WKuMwoSaKhLJ"
      },
      "execution_count": null,
      "outputs": []
    },
    {
      "cell_type": "code",
      "source": [
        "k = (alpha -1)/(alpha + ((n +1)/(n -1)))\n",
        "k"
      ],
      "metadata": {
        "colab": {
          "base_uri": "https://localhost:8080/"
        },
        "id": "RF9GjdMhKxjf",
        "outputId": "8038f240-6689-4c8f-e7e2-be2910cd6bee"
      },
      "execution_count": null,
      "outputs": [
        {
          "output_type": "execute_result",
          "data": {
            "text/plain": [
              "0.14528141655115867"
            ]
          },
          "metadata": {},
          "execution_count": 22
        }
      ]
    },
    {
      "cell_type": "code",
      "source": [
        "V = Vo + k*Vc +(1 - k)*Vrs\n",
        "V"
      ],
      "metadata": {
        "colab": {
          "base_uri": "https://localhost:8080/"
        },
        "id": "dMQOw3nmQRYv",
        "outputId": "45daf674-a953-4fb4-e704-f98f3d9598f7"
      },
      "execution_count": null,
      "outputs": [
        {
          "output_type": "execute_result",
          "data": {
            "text/plain": [
              "0.0005846640027582222"
            ]
          },
          "metadata": {},
          "execution_count": 23
        }
      ]
    },
    {
      "cell_type": "code",
      "source": [
        "eff = 1/(f*f + (1-f)*(1-f)*k)\n",
        "eff"
      ],
      "metadata": {
        "colab": {
          "base_uri": "https://localhost:8080/"
        },
        "id": "ccXekccYQRcF",
        "outputId": "68ed01fa-672f-4824-f5cf-3500c5626f75"
      },
      "execution_count": null,
      "outputs": [
        {
          "output_type": "execute_result",
          "data": {
            "text/plain": [
              "6.933812751826902"
            ]
          },
          "metadata": {},
          "execution_count": 24
        }
      ]
    },
    {
      "cell_type": "code",
      "source": [
        "f_critical = k/(k + 1)\n",
        "f_critical"
      ],
      "metadata": {
        "colab": {
          "base_uri": "https://localhost:8080/"
        },
        "id": "LtTNtvOFQ_Ka",
        "outputId": "265fe4c6-a073-4f2a-f437-cbac3a433617"
      },
      "execution_count": null,
      "outputs": [
        {
          "output_type": "execute_result",
          "data": {
            "text/plain": [
              "0.12685215568122254"
            ]
          },
          "metadata": {},
          "execution_count": 25
        }
      ]
    },
    {
      "cell_type": "code",
      "source": [
        "eff_critical = 1 + 1/k\n",
        "eff_critical"
      ],
      "metadata": {
        "colab": {
          "base_uri": "https://localhost:8080/"
        },
        "id": "zNKq5fV0Q_N5",
        "outputId": "e3cd50f1-649a-4ce7-bf90-9a49df3df580"
      },
      "execution_count": null,
      "outputs": [
        {
          "output_type": "execute_result",
          "data": {
            "text/plain": [
              "7.883192797393086"
            ]
          },
          "metadata": {},
          "execution_count": 26
        }
      ]
    },
    {
      "cell_type": "markdown",
      "source": [
        "# **Variance estimator insensitive to step size h (1/n)**\n",
        "![Screenshot (2060).png](data:image/png;base64,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)"
      ],
      "metadata": {
        "id": "YzjAx7FjHPZi"
      }
    },
    {
      "cell_type": "code",
      "source": [
        "Vh = 1/(2*np.log(2)-1)*(2*np.log(2)*Vp - Vrs)\n",
        "Vh"
      ],
      "metadata": {
        "colab": {
          "base_uri": "https://localhost:8080/"
        },
        "id": "Sp-jHyT4HRkn",
        "outputId": "c611109f-0d2b-459c-f72c-1c5adfb3bf0b"
      },
      "execution_count": null,
      "outputs": [
        {
          "output_type": "execute_result",
          "data": {
            "text/plain": [
              "0.00018140691029561108"
            ]
          },
          "metadata": {},
          "execution_count": 28
        }
      ]
    },
    {
      "cell_type": "markdown",
      "source": [
        "Valid only when drift = 0 because it has Vp in it which has a zero drift assumption"
      ],
      "metadata": {
        "id": "xbvLTtr1Iof-"
      }
    },
    {
      "cell_type": "markdown",
      "source": [
        "# **Minimum-variance estimator under the restrictions of zero drift and finite step-size insensitivity**\n",
        "\n",
        "![Screenshot (2061).png](data:image/png;base64,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)"
      ],
      "metadata": {
        "id": "ajV5MJbqI1ak"
      }
    },
    {
      "cell_type": "code",
      "source": [
        "Vo_ = 1/n * (df['o'] * df['o']).sum(skipna=True)\n",
        "Vc_ = 1/n * (df['c'] * df['c']).sum(skipna=True)\n",
        "k_ = 2.6"
      ],
      "metadata": {
        "id": "Dy85dqDlHMX5"
      },
      "execution_count": null,
      "outputs": []
    },
    {
      "cell_type": "code",
      "source": [
        "V_ = Vo_ + k_*Vc_ + (1-k_)*Vh\n",
        "V_"
      ],
      "metadata": {
        "colab": {
          "base_uri": "https://localhost:8080/"
        },
        "id": "zFquG_0iJsbh",
        "outputId": "4de55cb5-6b84-4128-f5e0-fc44ac6495f2"
      },
      "execution_count": null,
      "outputs": [
        {
          "output_type": "execute_result",
          "data": {
            "text/plain": [
              "0.0006187977127452679"
            ]
          },
          "metadata": {},
          "execution_count": 31
        }
      ]
    },
    {
      "cell_type": "code",
      "source": [
        "print(n)"
      ],
      "metadata": {
        "colab": {
          "base_uri": "https://localhost:8080/"
        },
        "id": "OaK7odKsK4zu",
        "outputId": "51a7f2ee-27c2-44c1-cfa3-a2ee8e9f8672"
      },
      "execution_count": null,
      "outputs": [
        {
          "output_type": "stream",
          "name": "stdout",
          "text": [
            "7005\n"
          ]
        }
      ]
    },
    {
      "cell_type": "code",
      "source": [
        "VarV_ = 2/n*((f*f) + 0.41*(1-f)*(1-f))\n",
        "VarV_"
      ],
      "metadata": {
        "colab": {
          "base_uri": "https://localhost:8080/"
        },
        "id": "yw5KJbkqKEPd",
        "outputId": "f783d563-5f3e-4dc0-feca-f23524bfe373"
      },
      "execution_count": null,
      "outputs": [
        {
          "output_type": "execute_result",
          "data": {
            "text/plain": [
              "8.369022127052105e-05"
            ]
          },
          "metadata": {},
          "execution_count": 41
        }
      ]
    }
  ]
}